{
 "cells": [
  {
   "cell_type": "code",
   "execution_count": null,
   "metadata": {
    "collapsed": true
   },
   "outputs": [],
   "source": [
    "import glob\n",
    "from fps.fps import farthest_point_sample, index_points\n",
    "import os\n",
    "import torch\n",
    "import numpy as np\n",
    "import all_tools"
   ]
  },
  {
   "cell_type": "code",
   "execution_count": null,
   "outputs": [],
   "source": [
    "def fps_downsample(data_path=None):\n",
    "    point_num=10000\n",
    "    print(data_path)\n",
    "    data = all_tools.read_ply2np(fr\"{data_path}\")\n",
    "    xyz = data[:, :3]\n",
    "    xyz = xyz[np.newaxis, :, :]\n",
    "    xyz = torch.from_numpy(xyz).to(\"cuda\")\n",
    "    centroids = farthest_point_sample(xyz, point_num)\n",
    "    index = centroids[0].cpu().numpy()\n",
    "    fps_pcd = data[index]\n",
    "    save_path = data_path.replace(\"Crops3D\",\"Crops3D_10k\")\n",
    "    save_path = save_path.replace(\".ply\",\"_10k.ply\")\n",
    "    all_tools.save_ply_from_np(fps_pcd, save_path)\n",
    "    return"
   ],
   "metadata": {
    "collapsed": false
   }
  },
  {
   "cell_type": "code",
   "execution_count": null,
   "outputs": [],
   "source": [
    "# Create a mirror directory Crops3D_10k\n",
    "src_dir = r\"Path\\Crops3D\"  # Please replace with your source directory\n",
    "dst_dir = r\"Path\\Crops3D_10k\"  # Please replace with your destination directory\n",
    "\n",
    "# Traverse all subdirectories in the source directory\n",
    "for subdir, dirs, _ in os.walk(src_dir):\n",
    "    # Get the corresponding subdirectory path in the destination directory\n",
    "    dst_subdir = subdir.replace(src_dir, dst_dir)\n",
    "    # Create the subdirectory in the destination directory if it doesn't exist\n",
    "    if not os.path.exists(dst_subdir):\n",
    "        os.makedirs(dst_subdir)"
   ],
   "metadata": {
    "collapsed": false
   }
  },
  {
   "cell_type": "code",
   "execution_count": null,
   "outputs": [],
   "source": [
    "from multiprocessing_on_dill.dummy import Pool\n",
    "\n",
    "# Batch processing program\n",
    "ply_files = glob.glob(os.path.join(r\"Path\\Crops3D\", '**/*.ply'), recursive=True)\n",
    "\n",
    "pool = Pool(5)\n",
    "pool.map(fps_downsample, ply_files)\n",
    "pool.close()\n",
    "pool.join()"
   ],
   "metadata": {
    "collapsed": false
   }
  }
 ],
 "metadata": {
  "kernelspec": {
   "display_name": "Python 3",
   "language": "python",
   "name": "python3"
  },
  "language_info": {
   "codemirror_mode": {
    "name": "ipython",
    "version": 2
   },
   "file_extension": ".py",
   "mimetype": "text/x-python",
   "name": "python",
   "nbconvert_exporter": "python",
   "pygments_lexer": "ipython2",
   "version": "2.7.6"
  }
 },
 "nbformat": 4,
 "nbformat_minor": 0
}
