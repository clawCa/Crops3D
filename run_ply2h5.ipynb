{
 "cells": [
  {
   "cell_type": "markdown",
   "source": [
    "# Train set"
   ],
   "metadata": {
    "collapsed": false
   }
  },
  {
   "cell_type": "code",
   "execution_count": null,
   "outputs": [],
   "source": [
    "# train set\n",
    "import os\n",
    "import h5py\n",
    "import numpy as np\n",
    "from plyfile import PlyData\n",
    "from all_tools import read_ply2np,save_ply_from_np\n",
    "\n",
    "dict = {'Cabbage': [0], 'Cotton': [1], 'Maize': [2], 'Potato': [3],\n",
    "                       'Rapeseed': [4], 'Rice': [5], 'Tomato': [6], 'Wheat': [7]}\n",
    "\n",
    "def convert_ply_to_h5( output_file):\n",
    "    # get all .ply files\n",
    "    ply_files = np.loadtxt(r\"data\\Crops3D_10k\\train.txt\",dtype=str)\n",
    "    ply_files = [item for item in ply_files if \"Rice2\" not in item]\n",
    "    all_data = []\n",
    "    all_label = []\n",
    "    for file in ply_files:\n",
    "        # read .ply file\n",
    "        print(file)\n",
    "        cls_name = file.split(\"/\")[-2]\n",
    "        cls = dict[cls_name]\n",
    "        ply_data = read_ply2np(file)\n",
    "\n",
    "        all_data.append(ply_data[:, :3])\n",
    "        all_label.append(cls)\n",
    "\n",
    "\n",
    "        # save as h5\n",
    "    with h5py.File(output_file, 'w') as hf:\n",
    "        hf.create_dataset('data', data=all_data)\n",
    "        hf.create_dataset('label', data=all_label)\n",
    "\n",
    "    print(\"Conversion complete.\")\n",
    "\n",
    "# call function\n",
    "convert_ply_to_h5(r'data\\Crops3D_10k-C\\Crops3D_10k_train_cls.h5')"
   ],
   "metadata": {
    "collapsed": false
   }
  },
  {
   "cell_type": "markdown",
   "source": [
    "# Test set"
   ],
   "metadata": {
    "collapsed": false
   }
  },
  {
   "cell_type": "code",
   "execution_count": null,
   "outputs": [],
   "source": [
    "# testset\n",
    "import os\n",
    "import h5py\n",
    "import numpy as np\n",
    "from plyfile import PlyData\n",
    "from all_tools import read_ply2np,save_ply_from_np\n",
    "\n",
    "dict = {'Cabbage': [0], 'Cotton': [1], 'Maize': [2], 'Potato': [3],\n",
    "                       'Rapeseed': [4], 'Rice': [5], 'Tomato': [6], 'Wheat': [7]}\n",
    "\n",
    "def convert_ply_to_h5( output_file):\n",
    "    # get all .ply files\n",
    "    ply_files = np.loadtxt(r\"data\\Crops3D_10k\\test.txt\",dtype=str)\n",
    "    ply_files = [item for item in ply_files if \"Rice2\" not in item]\n",
    "    all_data = []\n",
    "    all_label = []\n",
    "    for file in ply_files:\n",
    "        # read .ply file\n",
    "        print(file)\n",
    "        cls_name = file.split(\"/\")[-2]\n",
    "        cls = dict[cls_name]\n",
    "        ply_data = read_ply2np(file)\n",
    "\n",
    "        all_data.append(ply_data[:, :3])\n",
    "        all_label.append(cls)\n",
    "\n",
    "\n",
    "        # save as h5\n",
    "    with h5py.File(output_file, 'w') as hf:\n",
    "        hf.create_dataset('data', data=all_data)\n",
    "        hf.create_dataset('label', data=all_label)\n",
    "\n",
    "    print(\"Conversion complete.\")\n",
    "\n",
    "# call function\n",
    "convert_ply_to_h5(r'data\\Crops3D_10k-C\\Crops3D_10k_test_cls.h5')"
   ],
   "metadata": {
    "collapsed": false
   }
  },
  {
   "cell_type": "code",
   "execution_count": null,
   "outputs": [],
   "source": [],
   "metadata": {
    "collapsed": false
   }
  }
 ],
 "metadata": {
  "kernelspec": {
   "display_name": "Python 3",
   "language": "python",
   "name": "python3"
  },
  "language_info": {
   "codemirror_mode": {
    "name": "ipython",
    "version": 2
   },
   "file_extension": ".py",
   "mimetype": "text/x-python",
   "name": "python",
   "nbconvert_exporter": "python",
   "pygments_lexer": "ipython2",
   "version": "2.7.6"
  }
 },
 "nbformat": 4,
 "nbformat_minor": 0
}
